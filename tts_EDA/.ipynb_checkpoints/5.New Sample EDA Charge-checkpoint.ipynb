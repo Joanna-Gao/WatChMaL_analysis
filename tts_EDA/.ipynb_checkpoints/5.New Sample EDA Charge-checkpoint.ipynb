{
 "cells": [
  {
   "cell_type": "markdown",
   "metadata": {},
   "source": [
    "# Analyzing Training, Validation, and Testing Sets\n",
    "\n",
    "Investigates the charge from the dataset for HKHybrid geomotry."
   ]
  },
  {
   "cell_type": "code",
   "execution_count": 1,
   "metadata": {},
   "outputs": [],
   "source": [
    "%load_ext autoreload\n",
    "%matplotlib inline\n",
    "%autoreload 2"
   ]
  },
  {
   "cell_type": "code",
   "execution_count": 2,
   "metadata": {},
   "outputs": [],
   "source": [
    "import sys\n",
    "import os\n",
    "import h5py\n",
    "import numpy as np\n",
    "import matplotlib.pyplot as plt"
   ]
  },
  {
   "cell_type": "code",
   "execution_count": 3,
   "metadata": {},
   "outputs": [],
   "source": [
    "from exploratory_data_analysis_utils import *"
   ]
  },
  {
   "cell_type": "markdown",
   "metadata": {},
   "source": [
    "# Load Data From H5"
   ]
  },
  {
   "cell_type": "code",
   "execution_count": 4,
   "metadata": {},
   "outputs": [
    {
     "name": "stdout",
     "output_type": "stream",
     "text": [
      "<KeysViewHDF5 ['angles', 'energies', 'event_hits_index_20', 'event_hits_index_3', 'event_ids', 'hit_charge_20', 'hit_charge_3', 'hit_pmt_20', 'hit_pmt_3', 'hit_time_20', 'hit_time_3', 'labels', 'positions', 'root_files', 'veto', 'veto2']>\n"
     ]
    }
   ],
   "source": [
    "# Import test events from h5 file\n",
    "# data_path = \"/scratch/jgao/data/HKHybrid/HKHybrid_e-mu-_E0to1000MeV_unif-pos-R3240-y3287cm_4pi-dir_6Mevts.hdf5\"\n",
    "data_path = \"/scratch/jgao/data/all.hdf5\"\n",
    "data_file = h5py.File(data_path, \"r\")\n",
    "\n",
    "print(data_file.keys())\n",
    "\n",
    "hdf5_hit_pmt_20    = data_file[\"hit_pmt_20\"]\n",
    "hdf5_hit_time_20   = data_file[\"hit_time_20\"]\n",
    "hdf5_hit_charge_20 = data_file[\"hit_charge_20\"]\n",
    "hdf5_hit_pmt_3    = data_file[\"hit_pmt_3\"]\n",
    "hdf5_hit_time_3   = data_file[\"hit_time_3\"]\n",
    "hdf5_hit_charge_3 = data_file[\"hit_charge_3\"]\n",
    "\n",
    "hit_pmt_20    = np.memmap(data_path, mode=\"r\", shape=hdf5_hit_pmt_20.shape,\n",
    "                          offset=hdf5_hit_pmt_20.id.get_offset(), dtype=hdf5_hit_pmt_20.dtype)\n",
    "hit_time_20   = np.memmap(data_path, mode=\"r\", shape=hdf5_hit_time_20.shape,\n",
    "                          offset=hdf5_hit_time_20.id.get_offset(), dtype=hdf5_hit_time_20.dtype)\n",
    "hit_charge_20 = np.memmap(data_path, mode=\"r\", shape=hdf5_hit_charge_20.shape,\n",
    "                          offset=hdf5_hit_charge_20.id.get_offset(), dtype=hdf5_hit_charge_20.dtype)\n",
    "\n",
    "hit_pmt_3    = np.memmap(data_path, mode=\"r\", shape=hdf5_hit_pmt_3.shape,\n",
    "                          offset=hdf5_hit_pmt_3.id.get_offset(), dtype=hdf5_hit_pmt_3.dtype)\n",
    "hit_time_3   = np.memmap(data_path, mode=\"r\", shape=hdf5_hit_time_3.shape,\n",
    "                          offset=hdf5_hit_time_3.id.get_offset(), dtype=hdf5_hit_time_3.dtype)\n",
    "hit_charge_3 = np.memmap(data_path, mode=\"r\", shape=hdf5_hit_charge_3.shape,\n",
    "                          offset=hdf5_hit_charge_3.id.get_offset(), dtype=hdf5_hit_charge_3.dtype)\n",
    "\n",
    "angles     = np.array(data_file['angles'])\n",
    "energies   = np.array(data_file['energies'])\n",
    "positions  = np.array(data_file['positions'])\n",
    "labels     = np.array(data_file['labels'])\n",
    "root_files = np.array(data_file['root_files'])"
   ]
  },
  {
   "cell_type": "markdown",
   "metadata": {},
   "source": [
    "# Load Indices"
   ]
  },
  {
   "cell_type": "code",
   "execution_count": 20,
   "metadata": {},
   "outputs": [],
   "source": [
    "# idxs_path = '/scratch/jgao/data/HKHybrid/HKHybrid_e-mu-_E0to1000MeV_unif-pos-R3240-y3287cm_4pi-dir_idxs.npz'\n",
    "idxs_path = '/scratch/jgao/data/idxs.npz'\n",
    "idxs = np.load(idxs_path, allow_pickle=True)\n",
    "\n",
    "train_idxs = idxs['train_idxs']\n",
    "val_idxs   = idxs['val_idxs']\n",
    "test_idxs  = idxs['test_idxs']"
   ]
  },
  {
   "cell_type": "markdown",
   "metadata": {},
   "source": [
    "# compute and save event radii"
   ]
  },
  {
   "cell_type": "code",
   "execution_count": 15,
   "metadata": {},
   "outputs": [],
   "source": [
    "# compute and save event radii\n",
    "\n",
    "radii = np.sqrt(positions[:,0,0]**2 + positions[:,0,2]**2)\n",
    "\n",
    "np.savez('event_radii.npz', radii=radii)\n"
   ]
  },
  {
   "cell_type": "code",
   "execution_count": 16,
   "metadata": {},
   "outputs": [],
   "source": [
    "radii_data = np.load('event_radii.npz', allow_pickle=True)\n",
    "\n",
    "radii = radii_data['radii']"
   ]
  },
  {
   "cell_type": "markdown",
   "metadata": {},
   "source": [
    "# Get indices associated with each dataset and particle type"
   ]
  },
  {
   "cell_type": "code",
   "execution_count": 21,
   "metadata": {},
   "outputs": [],
   "source": [
    "train_e_idxs = train_idxs[np.where(labels[train_idxs]==1)[0]]\n",
    "val_e_idxs   = val_idxs[np.where(labels[val_idxs]==1)[0]]\n",
    "test_e_idxs  = test_idxs[np.where(labels[test_idxs]==1)[0]]\n",
    "train_mu_idxs = train_idxs[np.where(labels[train_idxs]==2)[0]]\n",
    "val_mu_idxs   = val_idxs[np.where(labels[val_idxs]==2)[0]]\n",
    "test_mu_idxs  = test_idxs[np.where(labels[test_idxs]==2)[0]]"
   ]
  },
  {
   "cell_type": "markdown",
   "metadata": {},
   "source": [
    "# Initialize Detector Geometry Parameters"
   ]
  },
  {
   "cell_type": "code",
   "execution_count": 9,
   "metadata": {},
   "outputs": [],
   "source": [
    "# Need to be adapted to HK Hybrid geometry\n",
    "# FIXME!!!!!!!!!!\n",
    "barrel_map_array_idxs = [6, 7, 8, 9, 10, 11, 0, 1, 2, 3, 4, 5, 15, 16, 17, 12, 13, 14, 18]\n",
    "pmts_per_mpmt = 19\n",
    "\n",
    "# mpmt_positions_file = '/data/WatChMaL/data/IWCDshort_mPMT_image_positions.npz'\n",
    "# mpmt_positions   = np.load(mpmt_positions_file)['mpmt_image_positions']\n",
    "\n",
    "pmt_positions_file = '/scratch/jgao/data//HKHybrid/HKHybrid.geo.npz'\n",
    "pmt_positions   = np.load(pmt_positions_file)['mpmt_image_positions']  #????\n",
    "\n",
    "data_size = np.max(pmt_positions, axis=0) + 1\n",
    "n_channels = pmts_per_mpmt\n",
    "data_size = np.insert(data_size, 0, n_channels)"
   ]
  },
  {
   "cell_type": "code",
   "execution_count": 6,
   "metadata": {},
   "outputs": [],
   "source": [
    "event_hits_index_20 = np.append(data_file[\"event_hits_index_20\"], hdf5_hit_pmt_20.shape[0]).astype(np.int64)\n",
    "event_hits_index_3  = np.append(data_file[\"event_hits_index_3\"], hdf5_hit_pmt_3.shape[0]).astype(np.int64)"
   ]
  },
  {
   "cell_type": "markdown",
   "metadata": {},
   "source": [
    "# Distribution of total charge"
   ]
  },
  {
   "cell_type": "code",
   "execution_count": 12,
   "metadata": {},
   "outputs": [
    {
     "name": "stderr",
     "output_type": "stream",
     "text": [
      "Calculating Event Total Charge. Progress: 100% [0000000000000000] Time: 0:05:44\n"
     ]
    }
   ],
   "source": [
    "pbar = ProgressBar(widgets=['Calculating Event Total Charge. Progress: ', Percentage(),\n",
    "                            ' ', Bar(marker='0',left='[',right=']'), ' ', ETA()],\n",
    "                   maxval=positions.shape[0])\n",
    "\n",
    "pbar.start()\n",
    "total_charge = []\n",
    "for i in range(positions.shape[0]):\n",
    "    pbar.update(i)\n",
    "    start_20 = event_hits_index_20[i]\n",
    "    stop_20  = event_hits_index_20[i + 1]\n",
    "    if start_20 == stop_20:\n",
    "        if i == 5999999:\n",
    "            continue\n",
    "        stop_20  = event_hits_index_20[i + 2]\n",
    "    charge_20 = hit_charge_20[start_20:stop_20]\n",
    "\n",
    "    start_3 = event_hits_index_3[i]\n",
    "    stop_3  = event_hits_index_3[i + 1]\n",
    "    if start_3 == stop_3:\n",
    "        if i == 5999999:\n",
    "            continue\n",
    "        stop_3  = event_hits_index_3[i + 2]\n",
    "    charge_3 = hit_charge_3[start_3:stop_3]\n",
    "    \n",
    "    total_charge.append(np.sum(charge_20) + np.sum(charge_3))\n",
    "#     print(\"charge_20: \", charge_20, \" sum of charge: \", np.sum(charge_20))\n",
    "#     print(\"charge_3: \", charge_3, \" sum of charge: \", np.sum(charge_3))\n",
    "#     print(\"total_charge: \", total_charge)\n",
    "    \n",
    "pbar.finish()\n",
    "\n",
    "np.savez('total_charge.npz',   total_charge=total_charge)"
   ]
  },
  {
   "cell_type": "code",
   "execution_count": 13,
   "metadata": {},
   "outputs": [],
   "source": [
    "total_charge = np.load('total_charge.npz', allow_pickle=True)['total_charge']"
   ]
  },
  {
   "cell_type": "code",
   "execution_count": null,
   "metadata": {},
   "outputs": [],
   "source": []
  },
  {
   "cell_type": "code",
   "execution_count": 12,
   "metadata": {},
   "outputs": [
    {
     "data": {
      "text/plain": [
       "9538263946"
      ]
     },
     "execution_count": 12,
     "metadata": {},
     "output_type": "execute_result"
    }
   ],
   "source": [
    "hdf5_hit_pmt_20.shape[0]"
   ]
  },
  {
   "cell_type": "code",
   "execution_count": 13,
   "metadata": {},
   "outputs": [
    {
     "data": {
      "text/plain": [
       "1928366373"
      ]
     },
     "execution_count": 13,
     "metadata": {},
     "output_type": "execute_result"
    }
   ],
   "source": [
    "hdf5_hit_pmt_3.shape[0]"
   ]
  },
  {
   "cell_type": "code",
   "execution_count": 14,
   "metadata": {},
   "outputs": [
    {
     "data": {
      "text/plain": [
       "array([9538262359, 9538263946, 9538263946])"
      ]
     },
     "execution_count": 14,
     "metadata": {},
     "output_type": "execute_result"
    }
   ],
   "source": [
    "event_hits_index_20[-3:]"
   ]
  },
  {
   "cell_type": "code",
   "execution_count": 15,
   "metadata": {},
   "outputs": [
    {
     "data": {
      "text/plain": [
       "array([1928366037, 1928366373, 1928366373])"
      ]
     },
     "execution_count": 15,
     "metadata": {},
     "output_type": "execute_result"
    }
   ],
   "source": [
    "event_hits_index_3[-3:]"
   ]
  },
  {
   "cell_type": "code",
   "execution_count": 22,
   "metadata": {},
   "outputs": [
    {
     "ename": "IndexError",
     "evalue": "index 5999999 is out of bounds for axis 0 with size 5999999",
     "output_type": "error",
     "traceback": [
      "\u001b[0;31m---------------------------------------------------------------------------\u001b[0m",
      "\u001b[0;31mIndexError\u001b[0m                                Traceback (most recent call last)",
      "\u001b[0;32m<ipython-input-22-f0d4c2843c41>\u001b[0m in \u001b[0;36m<module>\u001b[0;34m\u001b[0m\n\u001b[1;32m      1\u001b[0m \u001b[0;31m# plot total charge for different datasets\u001b[0m\u001b[0;34m\u001b[0m\u001b[0;34m\u001b[0m\u001b[0;34m\u001b[0m\u001b[0m\n\u001b[0;32m----> 2\u001b[0;31m fig = plot_compare_dists([total_charge[train_mu_idxs],\n\u001b[0m\u001b[1;32m      3\u001b[0m                           \u001b[0mtotal_charge\u001b[0m\u001b[0;34m[\u001b[0m\u001b[0mval_mu_idxs\u001b[0m\u001b[0;34m]\u001b[0m\u001b[0;34m,\u001b[0m\u001b[0;34m\u001b[0m\u001b[0;34m\u001b[0m\u001b[0m\n\u001b[1;32m      4\u001b[0m                           \u001b[0mtotal_charge\u001b[0m\u001b[0;34m[\u001b[0m\u001b[0mtest_mu_idxs\u001b[0m\u001b[0;34m]\u001b[0m\u001b[0;34m,\u001b[0m\u001b[0;34m\u001b[0m\u001b[0;34m\u001b[0m\u001b[0m\n\u001b[1;32m      5\u001b[0m                           \u001b[0mtotal_charge\u001b[0m\u001b[0;34m[\u001b[0m\u001b[0mtrain_e_idxs\u001b[0m\u001b[0;34m]\u001b[0m\u001b[0;34m,\u001b[0m\u001b[0;34m\u001b[0m\u001b[0;34m\u001b[0m\u001b[0m\n",
      "\u001b[0;31mIndexError\u001b[0m: index 5999999 is out of bounds for axis 0 with size 5999999"
     ]
    }
   ],
   "source": [
    "# plot total charge for different datasets\n",
    "fig = plot_compare_dists([total_charge[train_mu_idxs],\n",
    "                          total_charge[val_mu_idxs],\n",
    "                          total_charge[test_mu_idxs],\n",
    "                          total_charge[train_e_idxs],\n",
    "                          total_charge[val_e_idxs],\n",
    "                          total_charge[test_e_idxs]],\n",
    "                         bins=30,\n",
    "                         numerator_dist_idxs   = [1,2,4,5],\n",
    "                         denominator_dist_idxs = [0,0,3,3],\n",
    "                         labels= ['mu-, Training Set', 'mu-, Validation Set', 'mu-, Test Set',\n",
    "                                  'Electron, Training Set', 'Electron, Validation Set', 'Electron, Test Set'],\n",
    "                         ratio_range=[0,2],title='Normalized Distribution of Event Total Charge',\n",
    "                         colors=['r','r','r','b','b','b'],\n",
    "                         linestyle=['-','--',':','-','--',':'],\n",
    "                         xlabel='Total Charge'\n",
    "                        )"
   ]
  },
  {
   "cell_type": "code",
   "execution_count": 19,
   "metadata": {},
   "outputs": [
    {
     "ename": "IndexError",
     "evalue": "index 5999999 is out of bounds for axis 0 with size 5999999",
     "output_type": "error",
     "traceback": [
      "\u001b[0;31m---------------------------------------------------------------------------\u001b[0m",
      "\u001b[0;31mIndexError\u001b[0m                                Traceback (most recent call last)",
      "\u001b[0;32m<ipython-input-19-131dc9f7e41f>\u001b[0m in \u001b[0;36m<module>\u001b[0;34m\u001b[0m\n\u001b[1;32m      1\u001b[0m \u001b[0;31m# plot total charge for different datasets\u001b[0m\u001b[0;34m\u001b[0m\u001b[0;34m\u001b[0m\u001b[0;34m\u001b[0m\u001b[0m\n\u001b[0;32m----> 2\u001b[0;31m fig = plot_compare_dists([total_charge[train_mu_idxs],\n\u001b[0m\u001b[1;32m      3\u001b[0m                           \u001b[0mtotal_charge\u001b[0m\u001b[0;34m[\u001b[0m\u001b[0mval_mu_idxs\u001b[0m\u001b[0;34m]\u001b[0m\u001b[0;34m,\u001b[0m\u001b[0;34m\u001b[0m\u001b[0;34m\u001b[0m\u001b[0m\n\u001b[1;32m      4\u001b[0m                           \u001b[0mtotal_charge\u001b[0m\u001b[0;34m[\u001b[0m\u001b[0mtest_mu_idxs\u001b[0m\u001b[0;34m]\u001b[0m\u001b[0;34m,\u001b[0m\u001b[0;34m\u001b[0m\u001b[0;34m\u001b[0m\u001b[0m\n\u001b[1;32m      5\u001b[0m                           \u001b[0mtotal_charge\u001b[0m\u001b[0;34m[\u001b[0m\u001b[0mtrain_e_idxs\u001b[0m\u001b[0;34m]\u001b[0m\u001b[0;34m,\u001b[0m\u001b[0;34m\u001b[0m\u001b[0;34m\u001b[0m\u001b[0m\n",
      "\u001b[0;31mIndexError\u001b[0m: index 5999999 is out of bounds for axis 0 with size 5999999"
     ]
    }
   ],
   "source": [
    "# plot total charge for different particles\n",
    "fig = plot_compare_dists([total_charge[train_mu_idxs],\n",
    "                          total_charge[val_mu_idxs],\n",
    "                          total_charge[test_mu_idxs],\n",
    "                          total_charge[train_e_idxs],\n",
    "                          total_charge[val_e_idxs],\n",
    "                          total_charge[test_e_idxs]],\n",
    "                         bins=30,\n",
    "                         numerator_dist_idxs   = [0,1,2],\n",
    "                         denominator_dist_idxs = [3,4,5],\n",
    "                         labels= ['Mu-, Training Set', 'Mu-, Validation Set', 'Mu-, Test Set',\n",
    "                                  'Electron, Training Set', 'Electron, Validation Set', 'Electron, Test Set'],\n",
    "                         ratio_range=[0,2],title='Normalized Distribution of Event Total Charge',\n",
    "                         colors=['r','r','b','b','y','y'],\n",
    "                         linestyle=['-',':','-',':','-',':'],\n",
    "                         xlabel='Total Charge'\n",
    "                        )"
   ]
  },
  {
   "cell_type": "markdown",
   "metadata": {},
   "source": [
    "# Max Charge"
   ]
  },
  {
   "cell_type": "code",
   "execution_count": null,
   "metadata": {},
   "outputs": [],
   "source": [
    "pbar = ProgressBar(widgets=['Calculating Event Max Charge. Progress: ', Percentage(),\n",
    "                            ' ', Bar(marker='0',left='[',right=']'), ' ', ETA()],\n",
    "                   maxval=positions.shape[0])\n",
    "\n",
    "pbar.start()\n",
    "max_charge_20 = []\n",
    "max_charge_3 = []\n",
    "for i in range(positions.shape[0]):\n",
    "    pbar.update(i)\n",
    "    \n",
    "    start_20 = event_hits_index_20[i]\n",
    "    stop_20  = event_hits_index_20[i + 1]\n",
    "    if start_20 == stop_20:\n",
    "        stop_20  = event_hits_index_20[i + 2]\n",
    "    charge_20 = hit_charge_20[start_20:stop_20]\n",
    "#     print(i,start_20, stop_20, charge_20)\n",
    "    \n",
    "    start_3 = event_hits_index_3[i]\n",
    "    stop_3  = event_hits_index_3[i + 1]\n",
    "    if start_3 == stop_3:\n",
    "        stop_3  = event_hits_index_3[i + 2]\n",
    "    charge_3 = hit_charge_3[start_3:stop_3]\n",
    "\n",
    "    max_charge_20.append(np.max(charge_20))\n",
    "    max_charge_3.append(np.max(charge_3))\n",
    "        \n",
    "pbar.finish()\n",
    "\n",
    "np.savez('max_charge.npz', max_charge_20=max_charge_20, max_charge_3=max_charge_3)"
   ]
  },
  {
   "cell_type": "code",
   "execution_count": 7,
   "metadata": {},
   "outputs": [
    {
     "name": "stderr",
     "output_type": "stream",
     "text": [
      "Printing event indx with hits. Progress: 100% [00000000000000000] Time: 0:00:00\r"
     ]
    },
    {
     "name": "stdout",
     "output_type": "stream",
     "text": [
      "0 0 3275\n",
      "1 3275 6791\n",
      "2 6791 9830\n",
      "3 9830 10254\n",
      "4 10254 13171\n",
      "5 13171 13466\n",
      "6 13466 15603\n",
      "7 15603 16687\n",
      "8 16687 20077\n",
      "9 20077 20514\n",
      "10 20514 23572\n",
      "11 23572 25913\n",
      "12 25913 26287\n",
      "13 26287 28723\n",
      "14 28723 28723\n",
      "15 28723 29639\n",
      "16 29639 29639\n",
      "17 29639 31123\n",
      "18 31123 32826\n",
      "19 32826 36105\n"
     ]
    },
    {
     "name": "stderr",
     "output_type": "stream",
     "text": [
      "\n"
     ]
    }
   ],
   "source": [
    "pbar = ProgressBar(widgets=['Printing event indx with hits. Progress: ', Percentage(),\n",
    "                            ' ', Bar(marker='0',left='[',right=']'), ' ', ETA()],\n",
    "                   maxval=positions.shape[0])\n",
    "\n",
    "pbar.start()\n",
    "max_charge_20 = []\n",
    "max_charge_3 = []\n",
    "for i in range(20):#positions.shape[0]):\n",
    "    pbar.update(i)\n",
    "    \n",
    "    start_20 = event_hits_index_20[i]\n",
    "    stop_20  = event_hits_index_20[i + 1]\n",
    "    charge_20 = hit_charge_20[start_20:stop_20]\n",
    "    print(i,start_20, stop_20,)\n",
    "    \n",
    "#     start_3 = event_hits_index_3[i]\n",
    "#     stop_3  = event_hits_index_3[i + 1]\n",
    "#     charge_3 = hit_charge_3[start_3:stop_3]\n",
    "\n",
    "#     max_charge_20.append(np.max(charge_20))\n",
    "#     max_charge_3.append(np.max(charge_3))\n",
    "        \n",
    "pbar.finish()"
   ]
  },
  {
   "cell_type": "code",
   "execution_count": 34,
   "metadata": {},
   "outputs": [],
   "source": [
    "max_charge_20 = np.load('max_charge.npz', allow_pickle=True)['max_charge_20']\n",
    "max_charge_3 = np.load('max_charge.npz', allow_pickle=True)['max_charge_3']"
   ]
  },
  {
   "cell_type": "code",
   "execution_count": 36,
   "metadata": {},
   "outputs": [
    {
     "name": "stdout",
     "output_type": "stream",
     "text": [
      "Bins:  [1.2031065e+00 1.0764467e+02 2.1408623e+02 3.2052780e+02 4.2696936e+02\n",
      " 5.3341089e+02 6.3985248e+02 7.4629407e+02 8.5273560e+02 9.5917719e+02\n",
      " 1.0656188e+03 1.1720603e+03 1.2785018e+03 1.3849434e+03 1.4913850e+03\n",
      " 1.5978265e+03 1.7042681e+03 1.8107096e+03 1.9171512e+03 2.0235928e+03\n",
      " 2.1300344e+03 2.2364758e+03 2.3429175e+03 2.4493591e+03 2.5558005e+03\n",
      " 2.6622422e+03 2.7686836e+03 2.8751252e+03 2.9815669e+03 3.0880083e+03\n",
      " 3.1944500e+03]\n"
     ]
    },
    {
     "name": "stderr",
     "output_type": "stream",
     "text": [
      "/home/nprouse/WatChMaL/WatChMaL_analysis/tts_EDA/exploratory_data_analysis_utils.py:164: RuntimeWarning: divide by zero encountered in true_divide\n",
      "  ns[idx] / ns[denominator_dist_idxs[i]],\n",
      "/home/nprouse/WatChMaL/WatChMaL_analysis/tts_EDA/exploratory_data_analysis_utils.py:164: RuntimeWarning: invalid value encountered in true_divide\n",
      "  ns[idx] / ns[denominator_dist_idxs[i]],\n",
      "/home/nprouse/WatChMaL/WatChMaL_analysis/tts_EDA/exploratory_data_analysis_utils.py:164: RuntimeWarning: invalid value encountered in true_divide\n",
      "  ns[idx] / ns[denominator_dist_idxs[i]],\n",
      "/home/nprouse/WatChMaL/WatChMaL_analysis/tts_EDA/exploratory_data_analysis_utils.py:164: RuntimeWarning: divide by zero encountered in true_divide\n",
      "  ns[idx] / ns[denominator_dist_idxs[i]],\n",
      "/home/nprouse/WatChMaL/WatChMaL_analysis/tts_EDA/exploratory_data_analysis_utils.py:164: RuntimeWarning: invalid value encountered in true_divide\n",
      "  ns[idx] / ns[denominator_dist_idxs[i]],\n"
     ]
    },
    {
     "data": {
      "image/png": "[encoded data removed]",
      "text/plain": [
       "<Figure size 864x864 with 2 Axes>"
      ]
     },
     "metadata": {},
     "output_type": "display_data"
    }
   ],
   "source": [
    "fig = plot_compare_dists([\n",
    "                    max_charge[train_g_idxs], max_charge[val_g_idxs], max_charge[test_g_idxs],\n",
    "                    max_charge[train_e_idxs], max_charge[val_e_idxs], max_charge[test_e_idxs]],\n",
    "                    bins=30,\n",
    "                    numerator_dist_idxs   = [0,1,2],\n",
    "                    denominator_dist_idxs = [3,4,5],\n",
    "                    labels= ['Gamma, Training Set', 'Gamma, Validation Set', 'Gamma, Test Set',\n",
    "                             'Electron, Training Set', 'Electron, Validation Set', 'Electron, Test Set'],\n",
    "                    ratio_range=[0,2],\n",
    "                    title='Normalized Distribution of Event Max PMT Charge',\n",
    "                    colors=['r','r','r','b','b','b'],\n",
    "                    linestyle=['-',':','--','-',':','--'],\n",
    "                    xlabel='Max PMT Charge',\n",
    "                    verbose=True\n",
    "                    )\n"
   ]
  },
  {
   "cell_type": "code",
   "execution_count": null,
   "metadata": {},
   "outputs": [],
   "source": []
  }
 ],
 "metadata": {
  "kernelspec": {
   "display_name": "Python 3",
   "language": "python",
   "name": "python3"
  },
  "language_info": {
   "codemirror_mode": {
    "name": "ipython",
    "version": 3
   },
   "file_extension": ".py",
   "mimetype": "text/x-python",
   "name": "python",
   "nbconvert_exporter": "python",
   "pygments_lexer": "ipython3",
   "version": "3.8.5"
  }
 },
 "nbformat": 4,
 "nbformat_minor": 4
}
